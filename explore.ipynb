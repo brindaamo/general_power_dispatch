{
 "cells": [
  {
   "cell_type": "code",
   "execution_count": 3,
   "id": "ab8f7bc9-473f-4473-904e-be46760b1a7d",
   "metadata": {},
   "outputs": [],
   "source": [
    "import pandas as pd\n",
    "from plant_model import PlantUnits\n",
    "from utils import get_raw_data_by_time\n",
    "from datetime import datetime, timedelta\n",
    "import numpy as np\n",
    "from utils import get_plant_characteristics\n",
    "from utils import get_demand_data\n",
    "from demand_model import Demand\n",
    "from statistics import mean"
   ]
  },
  {
   "cell_type": "code",
   "execution_count": 4,
   "id": "93be7dda",
   "metadata": {},
   "outputs": [],
   "source": [
    "COAL_RAMP_UP_PERCENT = 0.01\n",
    "COAL_RAMP_DOWN_PERCENT = 0.015\n",
    "COAL_EFFICIENCY_RATE = 0.55\n",
    "DEVELOPMENT_PERIOD_START_TIME = datetime(2022, 1, 1)\n",
    "DEVELOPMENT_PERIOD_END_TIME = datetime(2022, 2, 1)\n",
    "MODEL_PERIOD_START_TIME = datetime(2021, 2, 1)\n",
    "MODEL_PERIOD_END_TIME = datetime(2021, 3, 1)\n",
    "INFINITE_CAPACITY = 8000\n",
    "TIME_LEVEL = ['date','hour_of_day','time_block_of_day']\n",
    "DEMAND_LEVEL = ['date','hour_of_day','avg_unit_current_load']\n",
    "FILE_NAME = \"RawData/upsldc_plant_unit_time_block.csv\"\n"
   ]
  },
  {
   "cell_type": "code",
   "execution_count": 3,
   "id": "def24e75",
   "metadata": {},
   "outputs": [],
   "source": [
    "raw_data = pd.read_csv(\"RawData/upsldc_plant_unit_time_block.csv\")\n",
    "raw_data['date'] = pd.to_datetime(raw_data['data_capture_time_block_start']).dt.date"
   ]
  },
  {
   "cell_type": "code",
   "execution_count": 4,
   "id": "c29d3a87-0a6b-4419-8a3e-b59bc60c68ed",
   "metadata": {},
   "outputs": [],
   "source": [
    "plant_unit_timeblocks = get_raw_data_by_time(raw_data,DEVELOPMENT_PERIOD_START_TIME, DEVELOPMENT_PERIOD_END_TIME)"
   ]
  },
  {
   "cell_type": "code",
   "execution_count": 5,
   "id": "f78272f4",
   "metadata": {},
   "outputs": [],
   "source": [
    "model_demand = get_raw_data_by_time(raw_data,MODEL_PERIOD_START_TIME, MODEL_PERIOD_END_TIME)"
   ]
  },
  {
   "cell_type": "code",
   "execution_count": 6,
   "id": "1855a8fb",
   "metadata": {},
   "outputs": [
    {
     "name": "stderr",
     "output_type": "stream",
     "text": [
      "/home/ubuntu/anaconda3/envs/uppower/lib/python3.9/site-packages/numpy/lib/nanfunctions.py:1216: RuntimeWarning: Mean of empty slice\n",
      "  return np.nanmean(a, axis, out=out, keepdims=keepdims)\n",
      "/home/ubuntu/anaconda3/envs/uppower/lib/python3.9/site-packages/numpy/lib/nanfunctions.py:1216: RuntimeWarning: Mean of empty slice\n",
      "  return np.nanmean(a, axis, out=out, keepdims=keepdims)\n",
      "/home/ubuntu/UP-Power-Scheduling/utils.py:57: SettingWithCopyWarning: \n",
      "A value is trying to be set on a copy of a slice from a DataFrame.\n",
      "Try using .loc[row_indexer,col_indexer] = value instead\n",
      "\n",
      "See the caveats in the documentation: https://pandas.pydata.org/pandas-docs/stable/user_guide/indexing.html#returning-a-view-versus-a-copy\n",
      "  plant_data['upsldc_unit_capacity'] = INFINITE_CAPACITY\n"
     ]
    }
   ],
   "source": [
    "plant_units = get_plant_characteristics(plant_unit_timeblocks)"
   ]
  },
  {
   "cell_type": "code",
   "execution_count": 7,
   "id": "7de7984e",
   "metadata": {},
   "outputs": [
    {
     "name": "stdout",
     "output_type": "stream",
     "text": [
      "[ 1  2  3  4  5  6  7  8  9 10 11 12 13 14 15 16 17 18 19 20 21 22 23 24\n",
      " 25 26 27 28 29 30 31 32 33 34 35 36 37 38 39 40 41 42 43 44 45 46 47 48\n",
      " 49 50 51 52 53 54 55 56 57 58 59 60 61 62 63 64 65 66 67 68 69 70 71 72\n",
      " 73 74 75 76 77 82 83 84 85 86 87 88 89 90 91 92 93 94 95 96 78 79 80 81]\n",
      "[ 0  1  2  3  4  5  6  7  8  9 10 11 12 13 14 15 16 17 18 19 20 21 22 23]\n"
     ]
    }
   ],
   "source": [
    "demand_values = {} \n",
    "demand_of_UP_bydate_byhour_units,demand_UP = get_demand_data(model_demand)\n",
    "for item in demand_of_UP_bydate_byhour_units:\n",
    "    demand_key = str(item.date) + \"-\" +str(item.time_block)\n",
    "    demand_values[demand_key] = item.demand_val"
   ]
  },
  {
   "cell_type": "code",
   "execution_count": 17,
   "id": "93c48bde",
   "metadata": {},
   "outputs": [
    {
     "name": "stdout",
     "output_type": "stream",
     "text": [
      "9943.443192717174\n",
      "9676.556619708976\n",
      "9499.26258920351\n",
      "9398.117516052907\n",
      "9391.202775311198\n",
      "9313.217321106304\n",
      "9091.77588715781\n",
      "8947.301237130228\n",
      "9160.244041260305\n",
      "9639.237359848168\n",
      "10039.553339713571\n",
      "10340.152811621401\n",
      "10507.714729072499\n",
      "10499.402018139319\n",
      "10319.571521987617\n",
      "10078.291474567728\n",
      "9895.568904496793\n",
      "9816.219716907346\n",
      "9966.623067046756\n",
      "10143.831875358484\n",
      "10248.001507473089\n",
      "10279.323040089215\n",
      "10255.32140194397\n",
      "10195.138820639173\n"
     ]
    }
   ],
   "source": [
    "#finding average demand by hour for filling into the holes \n",
    "average_demand_list = []\n",
    "\n",
    "for hour in range(0,24):\n",
    "    for demand_block in demand_of_UP_bydate_byhour_units:\n",
    "        if demand_block.hour == hour:\n",
    "            average_demand_list.append(demand_block.demand_val)\n",
    "    print(mean(average_demand_list))\n",
    "    \n"
   ]
  },
  {
   "cell_type": "code",
   "execution_count": 8,
   "id": "ac77b047",
   "metadata": {},
   "outputs": [],
   "source": [
    "#creating the LP problem with name \"Production Cost Minimization Problem\"\n",
    "from pulp import *\n",
    "prob = LpProblem(\"production_cost_minimization\", LpMinimize)\n"
   ]
  },
  {
   "cell_type": "code",
   "execution_count": null,
   "id": "1756de62",
   "metadata": {},
   "outputs": [],
   "source": []
  },
  {
   "cell_type": "code",
   "execution_count": 9,
   "id": "647fa241",
   "metadata": {},
   "outputs": [
    {
     "ename": "NameError",
     "evalue": "name 'demand_UP' is not defined",
     "output_type": "error",
     "traceback": [
      "\u001b[0;31m---------------------------------------------------------------------------\u001b[0m",
      "\u001b[0;31mNameError\u001b[0m                                 Traceback (most recent call last)",
      "\u001b[0;32m/tmp/ipykernel_7356/404704623.py\u001b[0m in \u001b[0;36m<module>\u001b[0;34m\u001b[0m\n\u001b[1;32m     14\u001b[0m \u001b[0;34m\u001b[0m\u001b[0m\n\u001b[1;32m     15\u001b[0m \u001b[0mscheduling_hours\u001b[0m \u001b[0;34m=\u001b[0m \u001b[0mlist\u001b[0m\u001b[0;34m(\u001b[0m\u001b[0mrange\u001b[0m\u001b[0;34m(\u001b[0m\u001b[0;36m0\u001b[0m\u001b[0;34m,\u001b[0m\u001b[0;36m24\u001b[0m\u001b[0;34m)\u001b[0m\u001b[0;34m)\u001b[0m\u001b[0;34m\u001b[0m\u001b[0;34m\u001b[0m\u001b[0m\n\u001b[0;32m---> 16\u001b[0;31m \u001b[0mscheduling_dates\u001b[0m \u001b[0;34m=\u001b[0m  \u001b[0mdemand_UP\u001b[0m\u001b[0;34m[\u001b[0m\u001b[0;34m'date'\u001b[0m\u001b[0;34m]\u001b[0m\u001b[0;34m.\u001b[0m\u001b[0munique\u001b[0m\u001b[0;34m(\u001b[0m\u001b[0;34m)\u001b[0m\u001b[0;34m\u001b[0m\u001b[0;34m\u001b[0m\u001b[0m\n\u001b[0m",
      "\u001b[0;31mNameError\u001b[0m: name 'demand_UP' is not defined"
     ]
    }
   ],
   "source": [
    "#Reading data for the optimization problem\n",
    "\n",
    "plant_names = []\n",
    "plant_production_costs = {}\n",
    "plant_capacity = {}\n",
    "dates = []\n",
    "for plant in plant_units:\n",
    "    if(plant.average_variable_cost>0):\n",
    "\n",
    "        plant_names.append(plant.name)\n",
    "        plant_production_costs[plant.name] = plant.average_variable_cost\n",
    "        plant_capacity[plant.name] = plant.capacity\n",
    "\n",
    "\n",
    "scheduling_hours = list(range(0,24))\n",
    "scheduling_dates =  demand_UP['date'].unique()\n"
   ]
  },
  {
   "cell_type": "code",
   "execution_count": 10,
   "id": "37b2fcd1",
   "metadata": {},
   "outputs": [],
   "source": [
    "#Creating the production variables\n",
    "production_vars = LpVariable.dicts(name = \"production_units\",indices = [(i,j,k) for i in plant_names for j in scheduling_dates for k in scheduling_hours],lowBound=0)"
   ]
  },
  {
   "cell_type": "code",
   "execution_count": 11,
   "id": "f53df884",
   "metadata": {},
   "outputs": [],
   "source": [
    "#LP Objective function \n",
    "prob += lpSum([plant_production_costs[i]*production_vars[(i,j,k)] for i in plant_names for j in scheduling_dates for k in scheduling_hours]), \"Sum of production costs\""
   ]
  },
  {
   "cell_type": "code",
   "execution_count": 12,
   "id": "cb6279a8",
   "metadata": {},
   "outputs": [],
   "source": [
    "#Adding constraints to the model\n",
    "#Demand constraints\n",
    "#for every date, every hour, demand[date][hour] has to be satisfied\n",
    "demand_values = {} \n",
    "for item in demand_of_UP_bydate_byhour_units:\n",
    " demand_key = str(item.date) + \"-\" +str(item.hour)\n",
    " demand_values[demand_key] = item.demand_val\n",
    "\n",
    "for date in scheduling_dates:\n",
    "   for hour in scheduling_hours:\n",
    "      demand_date_hour = str(date) + \"-\"+str(hour)\n",
    "      prob+= (lpSum(production_vars[(plant,date,hour)] for plant in plant_names) >= demand_values[demand_date_hour])\n",
    "\n",
    "\n",
    "# capacity constraint \n",
    "# capacity of the power plant cannot be exceeded at any hour\n",
    "\n",
    "for plant in plant_names:\n",
    "   for date in scheduling_dates:\n",
    "      for hour in scheduling_hours:\n",
    "         prob += production_vars[(plant,date,hour)] <= plant_capacity[plant]\n",
    "\n",
    "\n",
    "\n",
    "\n"
   ]
  },
  {
   "cell_type": "code",
   "execution_count": 13,
   "id": "373de3b8",
   "metadata": {},
   "outputs": [],
   "source": [
    "for plant in plant_units:\n",
    "        if np.isnan(plant.capacity):\n",
    "                print(plant.name)"
   ]
  },
  {
   "cell_type": "code",
   "execution_count": 14,
   "id": "3d21cc49",
   "metadata": {},
   "outputs": [
    {
     "name": "stdout",
     "output_type": "stream",
     "text": [
      "Welcome to the CBC MILP Solver \n",
      "Version: 2.10.3 \n",
      "Build Date: Dec 15 2019 \n",
      "\n",
      "command line - /home/ubuntu/anaconda3/envs/uppower/lib/python3.9/site-packages/pulp/apis/../solverdir/cbc/linux/64/cbc /tmp/b5da4c356935494581fb3b21240ec625-pulp.mps timeMode elapsed branch printingOptions all solution /tmp/b5da4c356935494581fb3b21240ec625-pulp.sol (default strategy 1)\n",
      "At line 2 NAME          MODEL\n",
      "At line 3 ROWS\n",
      "At line 46373 COLUMNS\n",
      "At line 183462 RHS\n",
      "At line 229831 BOUNDS\n",
      "At line 229832 ENDATA\n",
      "Problem MODEL has 46368 rows, 45696 columns and 91392 elements\n",
      "Coin0008I MODEL read with 0 errors\n",
      "Option for timeMode changed from cpu to elapsed\n",
      "Presolve determined that the problem was infeasible with tolerance of 1e-08\n",
      "Analysis indicates model infeasible or unbounded\n",
      "1 infeasibilities\n",
      "Analysis indicates model infeasible or unbounded\n",
      "Perturbing problem by 0.001% of 4.4607975 - largest nonzero change 2.9534216e-05 ( 0.0022632759%) - largest zero change 0\n",
      "0  Obj 0 Primal inf 30203209 (672)\n",
      "456  Obj 7986851.3 Primal inf 30188161 (672)\n",
      "912  Obj 11472533 Primal inf 30173320 (672)\n",
      "1368  Obj 12327828 Primal inf 30159325 (672)\n",
      "1824  Obj 12884123 Primal inf 30145505 (672)\n",
      "2280  Obj 13992129 Primal inf 30130618 (672)\n",
      "2736  Obj 14639128 Primal inf 30115264 (672)\n",
      "3192  Obj 15429740 Primal inf 30099307 (672)\n",
      "3648  Obj 16399485 Primal inf 30082496 (672)\n",
      "4104  Obj 17612668 Primal inf 30061899 (672)\n",
      "4560  Obj 18842450 Primal inf 30039141 (672)\n",
      "5016  Obj 20917506 Primal inf 30005560 (672)\n",
      "5472  Obj 22835831 Primal inf 29962479 (672)\n",
      "5928  Obj 24735197 Primal inf 29909210 (672)\n",
      "6384  Obj 26665256 Primal inf 29853537 (672)\n",
      "6840  Obj 27832181 Primal inf 29799804 (672)\n",
      "7296  Obj 29084661 Primal inf 29739701 (672)\n",
      "7752  Obj 30609777 Primal inf 29672129 (672)\n",
      "8208  Obj 32431974 Primal inf 29596934 (672)\n",
      "8664  Obj 34024980 Primal inf 29521409 (672)\n",
      "9120  Obj 35494715 Primal inf 29442371 (672)\n",
      "9576  Obj 36750562 Primal inf 29362552 (672)\n",
      "10032  Obj 38084779 Primal inf 29277082 (672)\n",
      "10488  Obj 40201754 Primal inf 29175278 (672)\n",
      "10944  Obj 41963397 Primal inf 29068592 (672)\n",
      "11400  Obj 43931741 Primal inf 28946536 (672)\n",
      "11856  Obj 45586018 Primal inf 28771752 (672)\n",
      "12312  Obj 46743983 Primal inf 28564352 (672)\n",
      "12768  Obj 48197258 Primal inf 28313144 (672)\n",
      "13224  Obj 49866018 Primal inf 28093701 (672)\n",
      "13680  Obj 51717858 Primal inf 27842608 (672)\n",
      "14136  Obj 53366109 Primal inf 27619419 (672)\n",
      "14592  Obj 54933093 Primal inf 27403343 (672)\n",
      "15048  Obj 55943877 Primal inf 27164534 (672)\n",
      "15504  Obj 56812366 Primal inf 26946845 (672)\n",
      "15960  Obj 58167878 Primal inf 26725287 (672)\n",
      "16416  Obj 59335750 Primal inf 26474501 (672)\n",
      "16872  Obj 60427445 Primal inf 26223817 (672)\n",
      "17328  Obj 61503900 Primal inf 26023801 (672)\n",
      "17784  Obj 62456190 Primal inf 25749815 (672)\n",
      "18240  Obj 63418000 Primal inf 25460225 (672)\n",
      "18696  Obj 64346991 Primal inf 25150705 (672)\n",
      "19152  Obj 65291592 Primal inf 24867532 (672)\n",
      "19608  Obj 66265847 Primal inf 24595188 (672)\n",
      "20064  Obj 67143355 Primal inf 24338916 (672)\n",
      "20520  Obj 67943586 Primal inf 24080499 (672)\n",
      "20976  Obj 68715838 Primal inf 23738786 (672)\n",
      "21432  Obj 69475665 Primal inf 23351472 (672)\n",
      "21888  Obj 70102933 Primal inf 22984803 (672)\n",
      "22344  Obj 70870428 Primal inf 22637730 (672)\n",
      "22800  Obj 71621759 Primal inf 22187153 (672)\n",
      "23256  Obj 72449166 Primal inf 21831566 (672)\n",
      "23698  Obj 73161483 Primal inf 21514778 (672)\n",
      "Primal infeasible - objective value 73161483\n",
      "PrimalInfeasible objective 73161483.26 - 23698 iterations time 0.772\n",
      "\n",
      "Result - Linear relaxation infeasible\n",
      "\n",
      "Enumerated nodes:           0\n",
      "Total iterations:           0\n",
      "Time (CPU seconds):         0.87\n",
      "Time (Wallclock Seconds):   0.99\n",
      "\n",
      "Option for printingOptions changed from normal to all\n",
      "Total time (CPU seconds):       0.92   (Wallclock seconds):       1.06\n",
      "\n"
     ]
    },
    {
     "data": {
      "text/plain": [
       "-1"
      ]
     },
     "execution_count": 14,
     "metadata": {},
     "output_type": "execute_result"
    }
   ],
   "source": [
    "prob.solve()"
   ]
  },
  {
   "cell_type": "code",
   "execution_count": 41,
   "id": "acbaf61e",
   "metadata": {},
   "outputs": [
    {
     "name": "stdout",
     "output_type": "stream",
     "text": [
      "Status: Optimal\n",
      "Total cost of production =  71460348.59357913\n"
     ]
    }
   ],
   "source": [
    "#printing important optimization values on screen \n",
    "\n",
    "#status of solving the optimization problem\n",
    "print(\"Status:\", LpStatus[prob.status])\n",
    "\n",
    "#optimal objective value\n",
    "print(\"Total cost of production = \", value(prob.objective))\n",
    "\n",
    "output = ''\n",
    "output += str(value(prob.objective)) + \"\\n\"\n",
    "for v in prob.variables():\n",
    "    if v.varValue>0:\n",
    "        output += v.name + \"=\" + str(v.varValue) + \"\\n\" \n",
    "\n"
   ]
  },
  {
   "cell_type": "code",
   "execution_count": 1,
   "id": "218b21e3",
   "metadata": {},
   "outputs": [
    {
     "ename": "NameError",
     "evalue": "name 'DEVELOPMENT_PERIOD_START_TIME' is not defined",
     "output_type": "error",
     "traceback": [
      "\u001b[0;31m---------------------------------------------------------------------------\u001b[0m",
      "\u001b[0;31mNameError\u001b[0m                                 Traceback (most recent call last)",
      "\u001b[0;32m/tmp/ipykernel_7356/2495753909.py\u001b[0m in \u001b[0;36m<module>\u001b[0;34m\u001b[0m\n\u001b[0;32m----> 1\u001b[0;31m \u001b[0mstart_date\u001b[0m \u001b[0;34m=\u001b[0m \u001b[0mDEVELOPMENT_PERIOD_START_TIME\u001b[0m\u001b[0;34m\u001b[0m\u001b[0;34m\u001b[0m\u001b[0m\n\u001b[0m\u001b[1;32m      2\u001b[0m \u001b[0mend_date\u001b[0m \u001b[0;34m=\u001b[0m \u001b[0mDEVELOPMENT_PERIOD_END_TIME\u001b[0m\u001b[0;34m\u001b[0m\u001b[0;34m\u001b[0m\u001b[0m\n\u001b[1;32m      3\u001b[0m \u001b[0mdelta\u001b[0m \u001b[0;34m=\u001b[0m \u001b[0mtimedelta\u001b[0m\u001b[0;34m(\u001b[0m\u001b[0mdays\u001b[0m\u001b[0;34m=\u001b[0m\u001b[0;36m1\u001b[0m\u001b[0;34m)\u001b[0m\u001b[0;34m\u001b[0m\u001b[0;34m\u001b[0m\u001b[0m\n\u001b[1;32m      4\u001b[0m \u001b[0;32mwhile\u001b[0m\u001b[0;34m(\u001b[0m\u001b[0mend_date\u001b[0m\u001b[0;34m<\u001b[0m\u001b[0mstart_date\u001b[0m\u001b[0;34m)\u001b[0m\u001b[0;34m:\u001b[0m\u001b[0;34m\u001b[0m\u001b[0;34m\u001b[0m\u001b[0m\n\u001b[1;32m      5\u001b[0m     \u001b[0mday\u001b[0m \u001b[0;34m=\u001b[0m \u001b[0mstart_date\u001b[0m \u001b[0;34m+\u001b[0m \u001b[0mdelta\u001b[0m\u001b[0;34m\u001b[0m\u001b[0;34m\u001b[0m\u001b[0m\n",
      "\u001b[0;31mNameError\u001b[0m: name 'DEVELOPMENT_PERIOD_START_TIME' is not defined"
     ]
    }
   ],
   "source": [
    "start_date = DEVELOPMENT_PERIOD_START_TIME\n",
    "end_date = DEVELOPMENT_PERIOD_END_TIME\n",
    "delta = timedelta(days=1)\n",
    "while(end_date<start_date):\n",
    "    day = start_date + delta\n",
    "    print(day)\n",
    "\n"
   ]
  },
  {
   "cell_type": "code",
   "execution_count": 16,
   "id": "9936dff9",
   "metadata": {},
   "outputs": [],
   "source": [
    "from datetime import date, timedelta\n",
    "unique_time_blocks = []\n",
    "\n",
    "def daterange(start_date, end_date):\n",
    "    for n in range(int((end_date - start_date).days)):\n",
    "        yield start_date + timedelta(n)\n",
    "\n",
    "start_date = MODEL_PERIOD_START_TIME\n",
    "end_date = MODEL_PERIOD_END_TIME\n",
    "for single_date in daterange(start_date, end_date):\n",
    "    for time_block in range(1,97):\n",
    "        unique_time_blocks.append(single_date.strftime(\"%Y-%m-%d\") + str('-') + str(time_block))"
   ]
  },
  {
   "cell_type": "code",
   "execution_count": 8,
   "id": "06af1be6",
   "metadata": {},
   "outputs": [
    {
     "name": "stdout",
     "output_type": "stream",
     "text": [
      "['2021-02-01', '2021-02-02', '2021-02-03', '2021-02-04', '2021-02-05', '2021-02-06', '2021-02-07', '2021-02-08', '2021-02-09', '2021-02-10', '2021-02-11', '2021-02-12', '2021-02-13', '2021-02-14', '2021-02-15', '2021-02-16', '2021-02-17', '2021-02-18', '2021-02-19', '2021-02-20', '2021-02-21', '2021-02-22', '2021-02-23', '2021-02-24', '2021-02-25', '2021-02-26', '2021-02-27', '2021-02-28']\n"
     ]
    }
   ],
   "source": []
  },
  {
   "cell_type": "code",
   "execution_count": 14,
   "id": "a21cfb30",
   "metadata": {},
   "outputs": [
    {
     "ename": "NameError",
     "evalue": "name 'model_demand' is not defined",
     "output_type": "error",
     "traceback": [
      "\u001b[0;31m---------------------------------------------------------------------------\u001b[0m",
      "\u001b[0;31mNameError\u001b[0m                                 Traceback (most recent call last)",
      "\u001b[0;32m/tmp/ipykernel_32607/3426231935.py\u001b[0m in \u001b[0;36m<module>\u001b[0;34m\u001b[0m\n\u001b[0;32m----> 1\u001b[0;31m \u001b[0mmodel_demand\u001b[0m\u001b[0;34m\u001b[0m\u001b[0;34m\u001b[0m\u001b[0m\n\u001b[0m",
      "\u001b[0;31mNameError\u001b[0m: name 'model_demand' is not defined"
     ]
    }
   ],
   "source": [
    "model_demand"
   ]
  },
  {
   "cell_type": "code",
   "execution_count": null,
   "id": "8465635c",
   "metadata": {},
   "outputs": [],
   "source": []
  }
 ],
 "metadata": {
  "interpreter": {
   "hash": "64bea2a1ea9bdc71fca9589ba1a342b4a2d8811ade78e213d370841be36bac60"
  },
  "kernelspec": {
   "display_name": "Python [conda env:uppower]",
   "language": "python",
   "name": "python3"
  },
  "language_info": {
   "codemirror_mode": {
    "name": "ipython",
    "version": 3
   },
   "file_extension": ".py",
   "mimetype": "text/x-python",
   "name": "python",
   "nbconvert_exporter": "python",
   "pygments_lexer": "ipython3",
   "version": "3.9.7"
  }
 },
 "nbformat": 4,
 "nbformat_minor": 5
}
